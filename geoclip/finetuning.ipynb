{
 "cells": [
  {
   "cell_type": "code",
   "execution_count": 2,
   "metadata": {},
   "outputs": [],
   "source": [
    "import torch\n",
    "from torch import nn\n",
    "import torch.optim as optim\n",
    "from train.train import train\n",
    "from train.dataloader import GeoDataLoader, img_train_transform\n",
    "from torch.utils.data import DataLoader\n",
    "from geoclip import GeoCLIP\n",
    "import os\n",
    "import wandb\n",
    "import random\n",
    "from datetime import datetime"
   ]
  },
  {
   "cell_type": "code",
   "execution_count": 3,
   "metadata": {},
   "outputs": [
    {
     "name": "stderr",
     "output_type": "stream",
     "text": [
      "Loading image paths and coordinates: 0it [00:00, ?it/s]"
     ]
    },
    {
     "name": "stderr",
     "output_type": "stream",
     "text": [
      "Loading image paths and coordinates: 11024it [00:00, 22055.20it/s]"
     ]
    },
    {
     "name": "stdout",
     "output_type": "stream",
     "text": [
      "File not found: /home/ray/mnt/cluster_storage/ai_geolocation/googlestreetview/googlestreetview_all_imgs/Kyiv_50.43660429_30.52477515_heading90.jpg\n",
      "File not found: /home/ray/mnt/cluster_storage/ai_geolocation/googlestreetview/googlestreetview_all_imgs/Kyiv_50.45544446_30.52440171_heading270.jpg\n",
      "File not found: /home/ray/mnt/cluster_storage/ai_geolocation/googlestreetview/googlestreetview_all_imgs/Kharkiv_50.00115190_36.30741662_heading180.jpg\n",
      "File not found: /home/ray/mnt/cluster_storage/ai_geolocation/googlestreetview/googlestreetview_all_imgs/Kharkiv_49.98259653_36.30778771_heading180.jpg\n",
      "File not found: /home/ray/mnt/cluster_storage/ai_geolocation/googlestreetview/googlestreetview_all_imgs/Kharkiv_49.98948679_36.30714889_heading180.jpg\n"
     ]
    },
    {
     "name": "stderr",
     "output_type": "stream",
     "text": [
      "Loading image paths and coordinates: 15475it [00:00, 22172.05it/s]"
     ]
    },
    {
     "name": "stdout",
     "output_type": "stream",
     "text": [
      "File not found: /home/ray/mnt/cluster_storage/ai_geolocation/googlestreetview/googlestreetview_all_imgs/Kyiv_50.40888245_30.52532464_heading0.jpg\n",
      "File not found: /home/ray/mnt/cluster_storage/ai_geolocation/googlestreetview/googlestreetview_all_imgs/Kyiv_50.37440137_30.52299690_heading0.jpg\n",
      "File not found: /home/ray/mnt/cluster_storage/ai_geolocation/googlestreetview/googlestreetview_all_imgs/Kyiv_50.42963426_30.52491331_heading270.jpg\n",
      "File not found: /home/ray/mnt/cluster_storage/ai_geolocation/googlestreetview/googlestreetview_all_imgs/Kyiv_50.45012498_30.52450715_heading0.jpg\n"
     ]
    },
    {
     "name": "stderr",
     "output_type": "stream",
     "text": [
      "Loading image paths and coordinates: 19827it [00:00, 22084.12it/s]"
     ]
    },
    {
     "name": "stdout",
     "output_type": "stream",
     "text": [
      "File not found: /home/ray/mnt/cluster_storage/ai_geolocation/eyesonrussia/eyesonrussia_imgs/img10126_0.jpg\n",
      "File not found: /home/ray/mnt/cluster_storage/ai_geolocation/eyesonrussia/eyesonrussia_imgs/img2080_1.jpg\n",
      "File not found: /home/ray/mnt/cluster_storage/ai_geolocation/eyesonrussia/eyesonrussia_imgs/img3441_1.jpg\n",
      "Total images found: 19815\n"
     ]
    },
    {
     "name": "stderr",
     "output_type": "stream",
     "text": [
      "\n"
     ]
    }
   ],
   "source": [
    "dataset_file = os.path.expanduser(\"~/mnt/cluster_storage/ai_geolocation/combined_train_geolocations.csv\")\n",
    "dataset_folder = \"~/mnt/cluster_storage/ai_geolocation\"\n",
    "batch_size = 32\n",
    "\n",
    "train_dataset = GeoDataLoader(dataset_file, dataset_folder, transform=img_train_transform())\n",
    "train_dataloader = DataLoader(train_dataset, batch_size=batch_size, shuffle=True, num_workers=4)"
   ]
  },
  {
   "cell_type": "code",
   "execution_count": 4,
   "metadata": {},
   "outputs": [
    {
     "name": "stderr",
     "output_type": "stream",
     "text": [
      "/home/ray/anaconda3/lib/python3.11/site-packages/transformers/tokenization_utils_base.py:1601: FutureWarning: `clean_up_tokenization_spaces` was not set. It will be set to `True` by default. This behavior will be depracted in transformers v4.45, and will be then set to `False` by default. For more details check this issue: https://github.com/huggingface/transformers/issues/31884\n",
      "  warnings.warn(\n",
      "/home/ray/anaconda3/lib/python3.11/site-packages/geoclip/model/location_encoder.py:57: FutureWarning: You are using `torch.load` with `weights_only=False` (the current default value), which uses the default pickle module implicitly. It is possible to construct malicious pickle data which will execute arbitrary code during unpickling (See https://github.com/pytorch/pytorch/blob/main/SECURITY.md#untrusted-models for more details). In a future release, the default value for `weights_only` will be flipped to `True`. This limits the functions that could be executed during unpickling. Arbitrary objects will no longer be allowed to be loaded via this mode unless they are explicitly allowlisted by the user via `torch.serialization.add_safe_globals`. We recommend you start setting `weights_only=True` for any use case where you don't have full control of the loaded file. Please open an issue on GitHub for any issues related to this experimental feature.\n",
      "  self.load_state_dict(torch.load(f\"{file_dir}/weights/location_encoder_weights.pth\"))\n",
      "/home/ray/anaconda3/lib/python3.11/site-packages/geoclip/model/GeoCLIP.py:37: FutureWarning: You are using `torch.load` with `weights_only=False` (the current default value), which uses the default pickle module implicitly. It is possible to construct malicious pickle data which will execute arbitrary code during unpickling (See https://github.com/pytorch/pytorch/blob/main/SECURITY.md#untrusted-models for more details). In a future release, the default value for `weights_only` will be flipped to `True`. This limits the functions that could be executed during unpickling. Arbitrary objects will no longer be allowed to be loaded via this mode unless they are explicitly allowlisted by the user via `torch.serialization.add_safe_globals`. We recommend you start setting `weights_only=True` for any use case where you don't have full control of the loaded file. Please open an issue on GitHub for any issues related to this experimental feature.\n",
      "  self.image_encoder.mlp.load_state_dict(torch.load(f\"{self.weights_folder}/image_encoder_mlp_weights.pth\"))\n",
      "/home/ray/anaconda3/lib/python3.11/site-packages/geoclip/model/GeoCLIP.py:38: FutureWarning: You are using `torch.load` with `weights_only=False` (the current default value), which uses the default pickle module implicitly. It is possible to construct malicious pickle data which will execute arbitrary code during unpickling (See https://github.com/pytorch/pytorch/blob/main/SECURITY.md#untrusted-models for more details). In a future release, the default value for `weights_only` will be flipped to `True`. This limits the functions that could be executed during unpickling. Arbitrary objects will no longer be allowed to be loaded via this mode unless they are explicitly allowlisted by the user via `torch.serialization.add_safe_globals`. We recommend you start setting `weights_only=True` for any use case where you don't have full control of the loaded file. Please open an issue on GitHub for any issues related to this experimental feature.\n",
      "  self.location_encoder.load_state_dict(torch.load(f\"{self.weights_folder}/location_encoder_weights.pth\"))\n",
      "/home/ray/anaconda3/lib/python3.11/site-packages/geoclip/model/GeoCLIP.py:39: FutureWarning: You are using `torch.load` with `weights_only=False` (the current default value), which uses the default pickle module implicitly. It is possible to construct malicious pickle data which will execute arbitrary code during unpickling (See https://github.com/pytorch/pytorch/blob/main/SECURITY.md#untrusted-models for more details). In a future release, the default value for `weights_only` will be flipped to `True`. This limits the functions that could be executed during unpickling. Arbitrary objects will no longer be allowed to be loaded via this mode unless they are explicitly allowlisted by the user via `torch.serialization.add_safe_globals`. We recommend you start setting `weights_only=True` for any use case where you don't have full control of the loaded file. Please open an issue on GitHub for any issues related to this experimental feature.\n",
      "  self.logit_scale = nn.Parameter(torch.load(f\"{self.weights_folder}/logit_scale_weights.pth\"))\n",
      "Failed to detect the name of this notebook, you can set it manually with the WANDB_NOTEBOOK_NAME environment variable to enable code saving.\n",
      "\u001b[34m\u001b[1mwandb\u001b[0m: Currently logged in as: \u001b[33mselena-sun\u001b[0m (\u001b[33mvannevar\u001b[0m). Use \u001b[1m`wandb login --relogin`\u001b[0m to force relogin\n"
     ]
    },
    {
     "data": {
      "text/html": [
       "Tracking run with wandb version 0.17.8"
      ],
      "text/plain": [
       "<IPython.core.display.HTML object>"
      ]
     },
     "metadata": {},
     "output_type": "display_data"
    },
    {
     "data": {
      "text/html": [
       "Run data is saved locally in <code>/home/ray/mnt/cluster_storage/ai_geolocation/geo-clip/geoclip/wandb/run-20240829_002434-nr06pv8i</code>"
      ],
      "text/plain": [
       "<IPython.core.display.HTML object>"
      ]
     },
     "metadata": {},
     "output_type": "display_data"
    },
    {
     "data": {
      "text/html": [
       "Syncing run <strong><a href='https://wandb.ai/vannevar/ai-geolocation/runs/nr06pv8i' target=\"_blank\">smart-grass-2</a></strong> to <a href='https://wandb.ai/vannevar/ai-geolocation' target=\"_blank\">Weights & Biases</a> (<a href='https://wandb.me/run' target=\"_blank\">docs</a>)<br/>"
      ],
      "text/plain": [
       "<IPython.core.display.HTML object>"
      ]
     },
     "metadata": {},
     "output_type": "display_data"
    },
    {
     "data": {
      "text/html": [
       " View project at <a href='https://wandb.ai/vannevar/ai-geolocation' target=\"_blank\">https://wandb.ai/vannevar/ai-geolocation</a>"
      ],
      "text/plain": [
       "<IPython.core.display.HTML object>"
      ]
     },
     "metadata": {},
     "output_type": "display_data"
    },
    {
     "data": {
      "text/html": [
       " View run at <a href='https://wandb.ai/vannevar/ai-geolocation/runs/nr06pv8i' target=\"_blank\">https://wandb.ai/vannevar/ai-geolocation/runs/nr06pv8i</a>"
      ],
      "text/plain": [
       "<IPython.core.display.HTML object>"
      ]
     },
     "metadata": {},
     "output_type": "display_data"
    },
    {
     "data": {
      "text/html": [
       "<button onClick=\"this.nextSibling.style.display='block';this.style.display='none';\">Display W&B run</button><iframe src='https://wandb.ai/vannevar/ai-geolocation/runs/nr06pv8i?jupyter=true' style='border:none;width:100%;height:420px;display:none;'></iframe>"
      ],
      "text/plain": [
       "<wandb.sdk.wandb_run.Run at 0x7c7e5029fd50>"
      ]
     },
     "execution_count": 4,
     "metadata": {},
     "output_type": "execute_result"
    }
   ],
   "source": [
    "# Initialize model\n",
    "\n",
    "step_size = 30\n",
    "lr = 0.0001\n",
    "num_epochs = 10\n",
    "gamma = 0.1\n",
    "model = GeoCLIP(from_pretrained=True)\n",
    "optimizer = optim.Adam(model.parameters(), lr=lr)\n",
    "scheduler = optim.lr_scheduler.StepLR(optimizer, step_size=step_size, gamma=gamma)\n",
    "device = torch.device(\"cuda\" if torch.cuda.is_available() else \"cpu\")\n",
    "\n",
    "# wandb setup\n",
    "wandb.init(\n",
    "    project=\"ai-geolocation\",\n",
    "    config={\n",
    "        \"learning_rate\": {lr},\n",
    "        \"step_size\": {step_size},\n",
    "        \"epochs\":{num_epochs},\n",
    "        \"optimizer_gamma\":{gamma}\n",
    "    }\n",
    ")"
   ]
  },
  {
   "cell_type": "code",
   "execution_count": 5,
   "metadata": {},
   "outputs": [
    {
     "name": "stdout",
     "output_type": "stream",
     "text": [
      "Starting Epoch 0\n"
     ]
    },
    {
     "name": "stderr",
     "output_type": "stream",
     "text": [
      "Epoch 0 loss: 6.18077:  97%|█████████▋| 600/620 [13:58<00:27,  1.39s/it]"
     ]
    }
   ],
   "source": [
    "# Train\n",
    "os.makedirs(\"snapshots\", exist_ok=True)\n",
    "\n",
    "for epoch in range(num_epochs):\n",
    "    train(train_dataloader, model, optimizer, epoch, batch_size, device, scheduler=scheduler)\n",
    "\n",
    "    snapshot_dir = f\"snapshots/epoch_{epoch}\"\n",
    "    os.makedirs(snapshot_dir, exist_ok=True)\n",
    "    \n",
    "    print(f\"Saved snapshot for epoch {epoch}\")\n",
    "\n",
    "# Save fine-tuned weights\n",
    "current_time = datetime.now().strftime(\"%m-%d-%H:%M\")\n",
    "torch.save(model.image_encoder.mlp.state_dict(), f\"fine_tuned_image_encoder_mlp_weights_{current_time}.pth\")\n",
    "torch.save(model.location_encoder.state_dict(), f\"fine_tuned_location_encoder_weights_{current_time}.pth\")\n",
    "torch.save(model.logit_scale, f\"fine_tuned_logit_scale_weights_{current_time}.pth\")\n",
    "wandb.finish()"
   ]
  },
  {
   "cell_type": "code",
   "execution_count": null,
   "metadata": {},
   "outputs": [],
   "source": []
  }
 ],
 "metadata": {
  "kernelspec": {
   "display_name": "base",
   "language": "python",
   "name": "python3"
  },
  "language_info": {
   "codemirror_mode": {
    "name": "ipython",
    "version": 3
   },
   "file_extension": ".py",
   "mimetype": "text/x-python",
   "name": "python",
   "nbconvert_exporter": "python",
   "pygments_lexer": "ipython3",
   "version": "3.11.8"
  }
 },
 "nbformat": 4,
 "nbformat_minor": 2
}
