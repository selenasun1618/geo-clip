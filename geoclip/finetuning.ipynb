{
 "cells": [
  {
   "cell_type": "code",
   "execution_count": 1,
   "metadata": {},
   "outputs": [
    {
     "name": "stderr",
     "output_type": "stream",
     "text": [
      "/home/ray/anaconda3/lib/python3.11/site-packages/tqdm/auto.py:21: TqdmWarning: IProgress not found. Please update jupyter and ipywidgets. See https://ipywidgets.readthedocs.io/en/stable/user_install.html\n",
      "  from .autonotebook import tqdm as notebook_tqdm\n"
     ]
    }
   ],
   "source": [
    "import torch\n",
    "from torch import nn\n",
    "import torch.optim as optim\n",
    "from train.train import train\n",
    "from train.dataloader import GeoDataLoader, img_train_transform\n",
    "from torch.utils.data import DataLoader\n",
    "from geoclip import GeoCLIP\n",
    "import os\n",
    "import wandb\n",
    "import random\n",
    "from datetime import datetime"
   ]
  },
  {
   "cell_type": "markdown",
   "metadata": {},
   "source": [
    "### Eval Utils ###"
   ]
  },
  {
   "cell_type": "code",
   "execution_count": 2,
   "metadata": {},
   "outputs": [],
   "source": [
    "import torch\n",
    "import importlib\n",
    "import json\n",
    "import math\n",
    "import numpy as np\n",
    "from transformers.models.layoutlmv3.configuration_layoutlmv3 import LayoutLMv3OnnxConfig\n",
    "\n",
    "def count_total_imgs(json_filepath, dataset_name):\n",
    "\n",
    "    total = 0\n",
    "\n",
    "    with open(json_filepath, 'r') as file:\n",
    "        metadata = json.load(file)\n",
    "\n",
    "    for _, data in metadata.items():\n",
    "        if dataset_name == \"googlestreetview\":\n",
    "            total += 1\n",
    "        elif dataset_name == \"eyesonrussia\":\n",
    "            images = data[\"img_names\"]\n",
    "            for _ in images:\n",
    "                total += 1\n",
    "\n",
    "    return total\n",
    "\n",
    "def tensor_to_python_type(tensor):\n",
    "    # Converts a tensor to a Python float, int, or list depending on its structure\n",
    "    if tensor.ndim == 0:  # Scalar tensor\n",
    "        return tensor.item()\n",
    "    elif tensor.ndim == 1:  # 1D tensor\n",
    "        return tensor.tolist()\n",
    "    else:\n",
    "        raise ValueError(\"Unsupported tensor dimension for conversion.\")\n",
    "\n",
    "def haversine_distance(latlon1, latlon2):\n",
    "    \"\"\"\n",
    "    Calculate the great circle distance between two points on a sphere given their longitudes and latitudes.\n",
    "    \n",
    "    param latlon1: latitude / longitude of the first point\n",
    "    param latlon2: latitude / longitude of the second point\n",
    "    return: The distance between the two points in kilometers\n",
    "    \"\"\"\n",
    "    # Radius of the Earth in kilometers\n",
    "    R = 6371\n",
    "    \n",
    "    # Convert degrees to radians\n",
    "    lat1, lon1 = latlon1\n",
    "    lat2, lon2 = latlon2\n",
    "    lat1, lon1, lat2, lon2 = map(math.radians, [lat1, lon1, lat2, lon2])\n",
    "    \n",
    "    # Haversine formula\n",
    "    dlat = lat2 - lat1\n",
    "    dlon = lon2 - lon1\n",
    "    a = math.sin(dlat/2)**2 + math.cos(lat1) * math.cos(lat2) * math.sin(dlon/2)**2\n",
    "    c = 2 * math.atan2(math.sqrt(a), math.sqrt(1-a))\n",
    "    \n",
    "    # Distance\n",
    "    distance = R * c\n",
    "    \n",
    "    return distance\n",
    "\n",
    "def run_eval(imgs_filepath, json_filepath, output_filename, timestamp, epoch_num, dataset_name=\"eyesonrussia\", streetview_only=True):\n",
    "    \"\"\"\n",
    "    imgs_filepath: path to images folder\n",
    "    json_filepath: path to json metadata\n",
    "    \"\"\"\n",
    "    \n",
    "    model = GeoCLIP(timestamp=timestamp, epoch_num=epoch_num, epochs=True)\n",
    "    if torch.cuda.is_available(): \n",
    "       model.to(\"cuda\")\n",
    "    else:\n",
    "        print(\"CUDA NOT AVAILABLE\")\n",
    "\n",
    "    pred_accuracies = {}\n",
    "    errors = []\n",
    "\n",
    "    with open(json_filepath, 'r') as file:\n",
    "        metadata = json.load(file)\n",
    "    \n",
    "    img_count = 0\n",
    "    for _, img_metadata in metadata.items():\n",
    "        \n",
    "        if dataset_name == \"googlestreetview\":\n",
    "            images = [img_metadata[\"image_name\"]]\n",
    "        elif dataset_name == \"eyesonrussia\":\n",
    "            images = img_metadata[\"img_names\"]\n",
    "\n",
    "        for idx, img_name in enumerate(images):\n",
    "            streetview_entries = img_metadata[\"streetview\"]\n",
    "\n",
    "            if \"streetview\" in img_metadata and idx < len(img_metadata[\"streetview\"]) and img_metadata[\"streetview\"][idx] == \"YES\" and img_metadata[\"train_or_test\"][idx] == \"TEST\":\n",
    "                run_eval = True\n",
    "            elif not streetview_only and img_metadata[\"train_or_test\"][idx] == \"TEST\":\n",
    "                run_eval = True\n",
    "            else:\n",
    "                run_eval = False\n",
    "\n",
    "            if run_eval:\n",
    "                try:\n",
    "                    top_pred_gps, top_pred_prob = model.predict(imgs_filepath + img_name, top_k=1)\n",
    "                    ground_truth = img_metadata[\"coordinates\"]\n",
    "                    pred_latlon = tensor_to_python_type(top_pred_gps[0])\n",
    "                    probability = tensor_to_python_type(top_pred_prob[0])\n",
    "\n",
    "                    dist = haversine_distance(pred_latlon, ground_truth)\n",
    "                    pred_accuracies[img_name] = {\n",
    "                        \"prediction\": pred_latlon,\n",
    "                        \"error_km\": dist,\n",
    "                        \"probability\": probability,\n",
    "                        \"ground_truth\": ground_truth,\n",
    "                        \"country\": img_metadata[\"country\"],\n",
    "                        \"city\": img_metadata[\"city\"]\n",
    "                    }\n",
    "                    if dataset_name == \"eyesonrussia\":\n",
    "                        pred_accuracies[img_name][\"url\"] = img_metadata[\"urls\"]\n",
    "                        \n",
    "                    errors.append(dist)\n",
    "                    img_count += 1\n",
    "                except FileNotFoundError:\n",
    "                    print(f\"Error: The file '{img_name}' was not found in the specified directory '{imgs_filepath}'.\")\n",
    "\n",
    "    print(f\"Average Error (km): {sum(errors) / len(errors) if errors else 0}\")\n",
    "\n",
    "    with open(output_filename, 'w') as file:\n",
    "        json.dump(pred_accuracies, file, indent=4)\n",
    "    print(f\"Prediction accuracies saved to {output_filename}\")\n",
    "\n",
    "    error_list = [item[\"error_km\"] for item in pred_accuracies.values()]\n",
    "\n",
    "    summary_stats = {\n",
    "        \"count\": len(error_list),\n",
    "        \"mean\": np.mean(error_list),\n",
    "        \"std\": np.std(error_list, ddof=1),  # Sample standard deviation (ddof=1)\n",
    "        \"min\": np.min(error_list),\n",
    "        \"max\": np.max(error_list),\n",
    "        \"25%\": np.percentile(error_list, 25),\n",
    "        \"50%\": np.percentile(error_list, 50),  # Median\n",
    "        \"75%\": np.percentile(error_list, 75),\n",
    "    }\n",
    "\n",
    "    for key, value in summary_stats.items():\n",
    "        print(f\"{key}: {value:.2f}\")\n",
    "\n",
    "    dist_acc = [0, 0, 0, 0, 0]\n",
    "    for error in error_list:\n",
    "        if error < 1:\n",
    "            dist_acc[0] += 1\n",
    "        if error < 25:\n",
    "            dist_acc[1] += 1\n",
    "        if error < 200:\n",
    "            dist_acc[2] += 1\n",
    "        if error < 750:\n",
    "            dist_acc[3] += 1\n",
    "        if error < 2500:\n",
    "            dist_acc[4] += 1\n",
    "\n",
    "    acc_1km = dist_acc[0] / len(error_list)\n",
    "    acc_25km = dist_acc[1] / len(error_list)\n",
    "    acc_200km = dist_acc[2] / len(error_list)\n",
    "    acc_750km = dist_acc[3] / len(error_list)\n",
    "    acc_2500km = dist_acc[4] / len(error_list)\n",
    "\n",
    "    print(f\"\\n1km Accuracy: {acc_1km:.2f}\")\n",
    "    print(f\"25km Accuracy: {acc_25km:.2f}\")\n",
    "    print(f\"200km Accuracy: {acc_200km:.2f}\")\n",
    "    print(f\"750km Accuracy: {acc_750km:.2f}\")\n",
    "    print(f\"2500km Accuracy: {acc_2500km:.2f}\")\n",
    "\n",
    "    # Log probabilities\n",
    "    probs_list = [item[\"probability\"] for item in pred_accuracies.values()]\n",
    "    summary_stats = {\n",
    "        \"count\": len(probs_list),\n",
    "        \"mean\": np.mean(probs_list),\n",
    "        \"std\": np.std(probs_list, ddof=1),  # Sample standard deviation (ddof=1)\n",
    "        \"min\": np.min(probs_list),\n",
    "        \"max\": np.max(probs_list),\n",
    "        \"25%\": np.percentile(probs_list, 25),\n",
    "        \"50%\": np.percentile(probs_list, 50),  # Median\n",
    "        \"75%\": np.percentile(probs_list, 75),\n",
    "    }\n",
    "    for key, value in summary_stats.items():\n",
    "        print(f\"{key}: {value:.2f}\")\n",
    "    \n",
    "    return acc_1km, acc_25km, acc_200km, acc_750km, acc_2500km, summary_stats[\"50%\"], summary_stats[\"min\"], summary_stats[\"max\"]"
   ]
  },
  {
   "cell_type": "markdown",
   "metadata": {},
   "source": [
    "### Fine Tuning ###"
   ]
  },
  {
   "cell_type": "code",
   "execution_count": 3,
   "metadata": {},
   "outputs": [
    {
     "name": "stderr",
     "output_type": "stream",
     "text": [
      "Loading image paths and coordinates: 2221it [00:00, 22205.73it/s]"
     ]
    },
    {
     "name": "stderr",
     "output_type": "stream",
     "text": [
      "Loading image paths and coordinates: 15236it [00:00, 22499.41it/s]"
     ]
    },
    {
     "name": "stdout",
     "output_type": "stream",
     "text": [
      "Total images found: 15236\n"
     ]
    },
    {
     "name": "stderr",
     "output_type": "stream",
     "text": [
      "\n"
     ]
    }
   ],
   "source": [
    "dataset_file = os.path.expanduser(\"~/mnt/cluster_storage/ai_geolocation/combined_train_geolocations.csv\")\n",
    "dataset_folder = \"~/mnt/cluster_storage/ai_geolocation\"\n",
    "batch_size = 32\n",
    "\n",
    "train_dataset = GeoDataLoader(dataset_file, dataset_folder, transform=img_train_transform())\n",
    "train_dataloader = DataLoader(train_dataset, batch_size=batch_size, shuffle=True, num_workers=4)"
   ]
  },
  {
   "cell_type": "code",
   "execution_count": 5,
   "metadata": {},
   "outputs": [
    {
     "name": "stderr",
     "output_type": "stream",
     "text": [
      "/home/ray/anaconda3/lib/python3.11/site-packages/transformers/tokenization_utils_base.py:1601: FutureWarning: `clean_up_tokenization_spaces` was not set. It will be set to `True` by default. This behavior will be depracted in transformers v4.45, and will be then set to `False` by default. For more details check this issue: https://github.com/huggingface/transformers/issues/31884\n",
      "  warnings.warn(\n",
      "/home/ray/mnt/cluster_storage/ai_geolocation/geo-clip/geoclip/model/location_encoder.py:62: FutureWarning: You are using `torch.load` with `weights_only=False` (the current default value), which uses the default pickle module implicitly. It is possible to construct malicious pickle data which will execute arbitrary code during unpickling (See https://github.com/pytorch/pytorch/blob/main/SECURITY.md#untrusted-models for more details). In a future release, the default value for `weights_only` will be flipped to `True`. This limits the functions that could be executed during unpickling. Arbitrary objects will no longer be allowed to be loaded via this mode unless they are explicitly allowlisted by the user via `torch.serialization.add_safe_globals`. We recommend you start setting `weights_only=True` for any use case where you don't have full control of the loaded file. Please open an issue on GitHub for any issues related to this experimental feature.\n",
      "  self.load_state_dict(torch.load(f\"{file_dir}/weights/{location_encoder_path}\"))\n"
     ]
    },
    {
     "name": "stdout",
     "output_type": "stream",
     "text": [
      "gps_gallery: /home/ray/mnt/cluster_storage/ai_geolocation/geo-clip/geoclip/model/gps_gallery/coordinates_ukraine_russia.csv\n"
     ]
    },
    {
     "name": "stderr",
     "output_type": "stream",
     "text": [
      "/home/ray/mnt/cluster_storage/ai_geolocation/geo-clip/geoclip/model/GeoCLIP.py:58: FutureWarning: You are using `torch.load` with `weights_only=False` (the current default value), which uses the default pickle module implicitly. It is possible to construct malicious pickle data which will execute arbitrary code during unpickling (See https://github.com/pytorch/pytorch/blob/main/SECURITY.md#untrusted-models for more details). In a future release, the default value for `weights_only` will be flipped to `True`. This limits the functions that could be executed during unpickling. Arbitrary objects will no longer be allowed to be loaded via this mode unless they are explicitly allowlisted by the user via `torch.serialization.add_safe_globals`. We recommend you start setting `weights_only=True` for any use case where you don't have full control of the loaded file. Please open an issue on GitHub for any issues related to this experimental feature.\n",
      "  self.image_encoder.mlp.load_state_dict(torch.load(f\"{self.weights_folder}/{image_encoder_path}\"))\n",
      "/home/ray/mnt/cluster_storage/ai_geolocation/geo-clip/geoclip/model/GeoCLIP.py:59: FutureWarning: You are using `torch.load` with `weights_only=False` (the current default value), which uses the default pickle module implicitly. It is possible to construct malicious pickle data which will execute arbitrary code during unpickling (See https://github.com/pytorch/pytorch/blob/main/SECURITY.md#untrusted-models for more details). In a future release, the default value for `weights_only` will be flipped to `True`. This limits the functions that could be executed during unpickling. Arbitrary objects will no longer be allowed to be loaded via this mode unless they are explicitly allowlisted by the user via `torch.serialization.add_safe_globals`. We recommend you start setting `weights_only=True` for any use case where you don't have full control of the loaded file. Please open an issue on GitHub for any issues related to this experimental feature.\n",
      "  self.location_encoder.load_state_dict(torch.load(f\"{self.weights_folder}/{location_encoder_path}\"))\n",
      "/home/ray/mnt/cluster_storage/ai_geolocation/geo-clip/geoclip/model/GeoCLIP.py:60: FutureWarning: You are using `torch.load` with `weights_only=False` (the current default value), which uses the default pickle module implicitly. It is possible to construct malicious pickle data which will execute arbitrary code during unpickling (See https://github.com/pytorch/pytorch/blob/main/SECURITY.md#untrusted-models for more details). In a future release, the default value for `weights_only` will be flipped to `True`. This limits the functions that could be executed during unpickling. Arbitrary objects will no longer be allowed to be loaded via this mode unless they are explicitly allowlisted by the user via `torch.serialization.add_safe_globals`. We recommend you start setting `weights_only=True` for any use case where you don't have full control of the loaded file. Please open an issue on GitHub for any issues related to this experimental feature.\n",
      "  self.logit_scale = nn.Parameter(torch.load(f\"{self.weights_folder}/{logit_scale_path}\"))\n"
     ]
    },
    {
     "data": {
      "text/html": [
       "Finishing last run (ID:a4lxi49s) before initializing another..."
      ],
      "text/plain": [
       "<IPython.core.display.HTML object>"
      ]
     },
     "metadata": {},
     "output_type": "display_data"
    },
    {
     "data": {
      "text/html": [
       "<style>\n",
       "    table.wandb td:nth-child(1) { padding: 0 10px; text-align: left ; width: auto;} td:nth-child(2) {text-align: left ; width: 100%}\n",
       "    .wandb-row { display: flex; flex-direction: row; flex-wrap: wrap; justify-content: flex-start; width: 100% }\n",
       "    .wandb-col { display: flex; flex-direction: column; flex-basis: 100%; flex: 1; padding: 10px; }\n",
       "    </style>\n",
       "<div class=\"wandb-row\"><div class=\"wandb-col\"><h3>Run history:</h3><br/><table class=\"wandb\"><tr><td>eor_accuracy_1km</td><td>▁</td></tr><tr><td>eor_accuracy_200km</td><td>▁</td></tr><tr><td>eor_accuracy_2500km</td><td>▁</td></tr><tr><td>eor_accuracy_25km</td><td>▁</td></tr><tr><td>eor_accuracy_750km</td><td>▁</td></tr><tr><td>eor_probability_50%</td><td>▁</td></tr><tr><td>eor_probability_max</td><td>▁</td></tr><tr><td>eor_probability_min</td><td>▁</td></tr><tr><td>epoch</td><td>▁▁▁▁▁▁▁▁▁▁▁▁▁▁▁▁▁▁▁▁▁▁▁▁▁▁▁▁▁▁▁▁▁▁▁▁▁▁▁▁</td></tr><tr><td>loss</td><td>▁▃▁▅▃▄▃▄▆▆▄▆▅▆▅▇▆█▇▇▆▇▅▅█▅▆▅▇▅▅▅▄▄▃▆▄▄▄▄</td></tr></table><br/></div><div class=\"wandb-col\"><h3>Run summary:</h3><br/><table class=\"wandb\"><tr><td>eor_accuracy_1km</td><td>0.05017</td></tr><tr><td>eor_accuracy_200km</td><td>0.5346</td></tr><tr><td>eor_accuracy_2500km</td><td>1</td></tr><tr><td>eor_accuracy_25km</td><td>0.26298</td></tr><tr><td>eor_accuracy_750km</td><td>0.97405</td></tr><tr><td>eor_probability_50%</td><td>0.00618</td></tr><tr><td>eor_probability_max</td><td>0.04051</td></tr><tr><td>eor_probability_min</td><td>0.00082</td></tr><tr><td>epoch</td><td>0</td></tr><tr><td>loss</td><td>1.58596</td></tr></table><br/></div></div>"
      ],
      "text/plain": [
       "<IPython.core.display.HTML object>"
      ]
     },
     "metadata": {},
     "output_type": "display_data"
    },
    {
     "data": {
      "text/html": [
       " View run <strong style=\"color:#cdcd00\">dark-music-16</strong> at: <a href='https://wandb.ai/vannevar/ai-geolocation/runs/a4lxi49s' target=\"_blank\">https://wandb.ai/vannevar/ai-geolocation/runs/a4lxi49s</a><br/> View project at: <a href='https://wandb.ai/vannevar/ai-geolocation' target=\"_blank\">https://wandb.ai/vannevar/ai-geolocation</a><br/>Synced 5 W&B file(s), 0 media file(s), 2 artifact file(s) and 0 other file(s)"
      ],
      "text/plain": [
       "<IPython.core.display.HTML object>"
      ]
     },
     "metadata": {},
     "output_type": "display_data"
    },
    {
     "data": {
      "text/html": [
       "Find logs at: <code>./wandb/run-20240920_070547-a4lxi49s/logs</code>"
      ],
      "text/plain": [
       "<IPython.core.display.HTML object>"
      ]
     },
     "metadata": {},
     "output_type": "display_data"
    },
    {
     "data": {
      "text/html": [
       "Successfully finished last run (ID:a4lxi49s). Initializing new run:<br/>"
      ],
      "text/plain": [
       "<IPython.core.display.HTML object>"
      ]
     },
     "metadata": {},
     "output_type": "display_data"
    },
    {
     "data": {
      "text/html": [
       "Tracking run with wandb version 0.18.1"
      ],
      "text/plain": [
       "<IPython.core.display.HTML object>"
      ]
     },
     "metadata": {},
     "output_type": "display_data"
    },
    {
     "data": {
      "text/html": [
       "Run data is saved locally in <code>/home/ray/mnt/cluster_storage/ai_geolocation/geo-clip/geoclip/wandb/run-20240920_075445-o9xtdqn2</code>"
      ],
      "text/plain": [
       "<IPython.core.display.HTML object>"
      ]
     },
     "metadata": {},
     "output_type": "display_data"
    },
    {
     "data": {
      "text/html": [
       "Syncing run <strong><a href='https://wandb.ai/vannevar/ai-geolocation/runs/o9xtdqn2' target=\"_blank\">legendary-totem-17</a></strong> to <a href='https://wandb.ai/vannevar/ai-geolocation' target=\"_blank\">Weights & Biases</a> (<a href='https://wandb.me/run' target=\"_blank\">docs</a>)<br/>"
      ],
      "text/plain": [
       "<IPython.core.display.HTML object>"
      ]
     },
     "metadata": {},
     "output_type": "display_data"
    },
    {
     "data": {
      "text/html": [
       " View project at <a href='https://wandb.ai/vannevar/ai-geolocation' target=\"_blank\">https://wandb.ai/vannevar/ai-geolocation</a>"
      ],
      "text/plain": [
       "<IPython.core.display.HTML object>"
      ]
     },
     "metadata": {},
     "output_type": "display_data"
    },
    {
     "data": {
      "text/html": [
       " View run at <a href='https://wandb.ai/vannevar/ai-geolocation/runs/o9xtdqn2' target=\"_blank\">https://wandb.ai/vannevar/ai-geolocation/runs/o9xtdqn2</a>"
      ],
      "text/plain": [
       "<IPython.core.display.HTML object>"
      ]
     },
     "metadata": {},
     "output_type": "display_data"
    },
    {
     "name": "stdout",
     "output_type": "stream",
     "text": [
      "Starting Epoch 0\n"
     ]
    },
    {
     "name": "stderr",
     "output_type": "stream",
     "text": [
      "Epoch 0 loss: 1.24082: 100%|██████████| 477/477 [10:50<00:00,  1.36s/it]\n"
     ]
    },
    {
     "name": "stdout",
     "output_type": "stream",
     "text": [
      "Saved snapshot for epoch 0\n",
      "Starting Epoch 1\n"
     ]
    },
    {
     "name": "stderr",
     "output_type": "stream",
     "text": [
      "Epoch 1 loss: 0.72225: 100%|██████████| 477/477 [10:51<00:00,  1.37s/it]\n"
     ]
    },
    {
     "name": "stdout",
     "output_type": "stream",
     "text": [
      "Saved snapshot for epoch 1\n",
      "Starting Epoch 2\n"
     ]
    },
    {
     "name": "stderr",
     "output_type": "stream",
     "text": [
      "Epoch 2 loss: 0.45803: 100%|██████████| 477/477 [10:51<00:00,  1.37s/it]\n"
     ]
    },
    {
     "name": "stdout",
     "output_type": "stream",
     "text": [
      "Saved snapshot for epoch 2\n",
      "Starting Epoch 3\n"
     ]
    },
    {
     "name": "stderr",
     "output_type": "stream",
     "text": [
      "Epoch 3 loss: 0.44683: 100%|██████████| 477/477 [10:50<00:00,  1.36s/it]\n"
     ]
    },
    {
     "name": "stdout",
     "output_type": "stream",
     "text": [
      "Saved snapshot for epoch 3\n",
      "Starting Epoch 4\n"
     ]
    },
    {
     "name": "stderr",
     "output_type": "stream",
     "text": [
      "Epoch 4 loss: 0.44835: 100%|██████████| 477/477 [10:51<00:00,  1.37s/it]\n"
     ]
    },
    {
     "name": "stdout",
     "output_type": "stream",
     "text": [
      "Saved snapshot for epoch 4\n",
      "Starting Epoch 5\n"
     ]
    },
    {
     "name": "stderr",
     "output_type": "stream",
     "text": [
      "Epoch 5 loss: 0.43868: 100%|██████████| 477/477 [10:51<00:00,  1.37s/it]\n"
     ]
    },
    {
     "name": "stdout",
     "output_type": "stream",
     "text": [
      "Saved snapshot for epoch 5\n",
      "Starting Epoch 6\n"
     ]
    },
    {
     "name": "stderr",
     "output_type": "stream",
     "text": [
      "Epoch 6 loss: 0.43765: 100%|██████████| 477/477 [10:50<00:00,  1.36s/it]\n"
     ]
    },
    {
     "name": "stdout",
     "output_type": "stream",
     "text": [
      "Saved snapshot for epoch 6\n",
      "Starting Epoch 7\n"
     ]
    },
    {
     "name": "stderr",
     "output_type": "stream",
     "text": [
      "Epoch 7 loss: 0.46932: 100%|██████████| 477/477 [23:30<00:00,  2.96s/it]\n"
     ]
    },
    {
     "name": "stdout",
     "output_type": "stream",
     "text": [
      "Saved snapshot for epoch 7\n"
     ]
    },
    {
     "data": {
      "text/html": [
       "<style>\n",
       "    table.wandb td:nth-child(1) { padding: 0 10px; text-align: left ; width: auto;} td:nth-child(2) {text-align: left ; width: 100%}\n",
       "    .wandb-row { display: flex; flex-direction: row; flex-wrap: wrap; justify-content: flex-start; width: 100% }\n",
       "    .wandb-col { display: flex; flex-direction: column; flex-basis: 100%; flex: 1; padding: 10px; }\n",
       "    </style>\n",
       "<div class=\"wandb-row\"><div class=\"wandb-col\"><h3>Run history:</h3><br/><table class=\"wandb\"><tr><td>epoch</td><td>▁▁▁▁▁▁▁▂▂▂▃▃▃▃▃▄▄▄▄▄▄▅▅▅▅▅▆▆▆▆▆▆▆▇▇█████</td></tr><tr><td>loss</td><td>█▇▆█▆▅▅▆▅▄▆▆▆▆▄▂▂▄▃▃▂▃▃▂▂▂▂▂▁▂▄▃▃▃▁▂▂▂▂▂</td></tr></table><br/></div><div class=\"wandb-col\"><h3>Run summary:</h3><br/><table class=\"wandb\"><tr><td>epoch</td><td>7</td></tr><tr><td>loss</td><td>0.46932</td></tr></table><br/></div></div>"
      ],
      "text/plain": [
       "<IPython.core.display.HTML object>"
      ]
     },
     "metadata": {},
     "output_type": "display_data"
    },
    {
     "data": {
      "text/html": [
       " View run <strong style=\"color:#cdcd00\">legendary-totem-17</strong> at: <a href='https://wandb.ai/vannevar/ai-geolocation/runs/o9xtdqn2' target=\"_blank\">https://wandb.ai/vannevar/ai-geolocation/runs/o9xtdqn2</a><br/> View project at: <a href='https://wandb.ai/vannevar/ai-geolocation' target=\"_blank\">https://wandb.ai/vannevar/ai-geolocation</a><br/>Synced 5 W&B file(s), 0 media file(s), 2 artifact file(s) and 0 other file(s)"
      ],
      "text/plain": [
       "<IPython.core.display.HTML object>"
      ]
     },
     "metadata": {},
     "output_type": "display_data"
    },
    {
     "data": {
      "text/html": [
       "Find logs at: <code>./wandb/run-20240920_075445-o9xtdqn2/logs</code>"
      ],
      "text/plain": [
       "<IPython.core.display.HTML object>"
      ]
     },
     "metadata": {},
     "output_type": "display_data"
    }
   ],
   "source": [
    "# Initialize model\n",
    "current_time = datetime.now().strftime(\"%m-%d-%H:%M\")\n",
    "os.makedirs(\"snapshots\", exist_ok=True)\n",
    "\n",
    "step_size = 30\n",
    "lr = 0.0001\n",
    "num_epochs = 8\n",
    "gamma = 0.1\n",
    "model = GeoCLIP(timestamp=None, from_pretrained=True)\n",
    "optimizer = optim.Adam(model.parameters(), lr=lr)\n",
    "scheduler = optim.lr_scheduler.StepLR(optimizer, step_size=step_size, gamma=gamma)\n",
    "device = torch.device(\"cuda\" if torch.cuda.is_available() else \"cpu\")\n",
    "\n",
    "# wandb setup\n",
    "wandb.init(\n",
    "    project=\"ai-geolocation\",\n",
    "    config={\n",
    "        \"learning_rate\": {lr},\n",
    "        \"step_size\": {step_size},\n",
    "        \"epochs\":{num_epochs},\n",
    "        \"optimizer_gamma\":{gamma}\n",
    "    }\n",
    ")\n",
    "\n",
    "# Train\n",
    "for epoch in range(num_epochs):\n",
    "    train(train_dataloader, model, optimizer, epoch, batch_size, device, scheduler=scheduler)\n",
    "\n",
    "    snapshot_dir = f\"snapshots/epoch_{epoch}\"\n",
    "    os.makedirs(snapshot_dir, exist_ok=True)\n",
    "    torch.save(model.image_encoder.mlp.state_dict(), f\"{snapshot_dir}/image_encoder_mlp_weights_{current_time}.pth\")\n",
    "    torch.save(model.location_encoder.state_dict(), f\"{snapshot_dir}/location_encoder_weights_{current_time}.pth\")\n",
    "    torch.save(model.logit_scale, f\"{snapshot_dir}/logit_scale_weights_{current_time}.pth\")\n",
    "\n",
    "    # save optimizer and scheduler states\n",
    "    torch.save(optimizer.state_dict(), f\"{snapshot_dir}/optimizer.pth\")\n",
    "    if scheduler:\n",
    "        torch.save(scheduler.state_dict(), f\"{snapshot_dir}/scheduler.pth\")\n",
    "    print(f\"Saved snapshot for epoch {epoch}\")\n",
    "\n",
    "    # ### Run test set on this epoch's weights ###\n",
    "    # # EoR\n",
    "    # eor_imgs_path = \"/home/ray/mnt/cluster_storage/ai_geolocation/eyesonrussia/eyesonrussia_imgs/\"\n",
    "    # eor_json_path = \"/home/ray/mnt/cluster_storage/ai_geolocation/eyesonrussia/eyesonrussia.json\"\n",
    "    # eor_output_path = f\"/home/ray/mnt/cluster_storage/ai_geolocation/eyesonrussia/eyesonrussia_finetuned_geoclip_predictions_{current_time}\"\n",
    "    # acc_1km, acc_25km, acc_200km, acc_750km, acc_2500km, prob_50, prob_min, prob_max = run_eval(epoch_num=epoch, timestamp=current_time, imgs_filepath=eor_imgs_path, json_filepath=eor_json_path, output_filename=eor_output_path, dataset_name=\"eyesonrussia\")\n",
    "\n",
    "    # wandb.log({\n",
    "    #     \"epoch\": epoch,\n",
    "    #     \"eor_accuracy_1km\": acc_1km,\n",
    "    #     \"eor_accuracy_25km\": acc_25km,\n",
    "    #     \"eor_accuracy_200km\": acc_200km,\n",
    "    #     \"eor_accuracy_750km\": acc_750km,\n",
    "    #     \"eor_accuracy_2500km\": acc_2500km,\n",
    "    #     \"eor_probability_50%\": prob_50,\n",
    "    #     \"eor_probability_min\": prob_min,\n",
    "    #     \"eor_probability_max\": prob_max\n",
    "    # })\n",
    "\n",
    "    # # GSV\n",
    "    # gsv_imgs_path = \"/home/ray/mnt/cluster_storage/ai_geolocation/googlestreetview/googlestreetview_all_imgs/\"\n",
    "    # gsv_json_path = \"/home/ray/mnt/cluster_storage/ai_geolocation/googlestreetview/googlestreetview.json\"\n",
    "    # gsv_output_path = f\"/home/ray/mnt/cluster_storage/ai_geolocation/googlestreetview/googlestreetview_finetuned_predictions_{current_time}\"\n",
    "    # acc_1km, acc_25km, acc_200km, acc_750km, acc_2500km, prob_50, prob_min, prob_max = run_eval(epoch_num=epoch, timestamp=current_time, imgs_filepath=gsv_imgs_path, json_filepath=gsv_json_path, output_filename=gsv_output_path, dataset_name=\"googlestreetview\")\n",
    "    # wandb.log({\n",
    "    #     \"epoch\": epoch,\n",
    "    #     \"gsv_accuracy_1km\": acc_1km,\n",
    "    #     \"gsv_accuracy_25km\": acc_25km,\n",
    "    #     \"gsv_accuracy_200km\": acc_200km,\n",
    "    #     \"gsv_accuracy_750km\": acc_750km,\n",
    "    #     \"gsv_accuracy_2500km\": acc_2500km,\n",
    "    #     \"gsv_probability_50%\": prob_50,\n",
    "    #     \"gsv_probability_min\": prob_min,\n",
    "    #     \"gsv_probability_max\": prob_max\n",
    "    # })\n",
    "\n",
    "# Save fine-tuned weights\n",
    "torch.save(model.image_encoder.mlp.state_dict(), f\"model/weights/fine_tuned_image_encoder_mlp_weights_{current_time}.pth\")\n",
    "torch.save(model.location_encoder.state_dict(), f\"model/weights/fine_tuned_location_encoder_weights_{current_time}.pth\")\n",
    "torch.save(model.logit_scale, f\"model/weights/fine_tuned_logit_scale_weights_{current_time}.pth\")\n",
    "wandb.finish()"
   ]
  }
 ],
 "metadata": {
  "kernelspec": {
   "display_name": "base",
   "language": "python",
   "name": "python3"
  },
  "language_info": {
   "codemirror_mode": {
    "name": "ipython",
    "version": 3
   },
   "file_extension": ".py",
   "mimetype": "text/x-python",
   "name": "python",
   "nbconvert_exporter": "python",
   "pygments_lexer": "ipython3",
   "version": "3.11.8"
  }
 },
 "nbformat": 4,
 "nbformat_minor": 2
}
