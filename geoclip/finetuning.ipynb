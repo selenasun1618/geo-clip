{
 "cells": [
  {
   "cell_type": "code",
   "execution_count": 1,
   "metadata": {},
   "outputs": [
    {
     "name": "stderr",
     "output_type": "stream",
     "text": [
      "/home/ray/anaconda3/lib/python3.11/site-packages/tqdm/auto.py:21: TqdmWarning: IProgress not found. Please update jupyter and ipywidgets. See https://ipywidgets.readthedocs.io/en/stable/user_install.html\n",
      "  from .autonotebook import tqdm as notebook_tqdm\n"
     ]
    }
   ],
   "source": [
    "import torch\n",
    "from torch import nn\n",
    "import torch.optim as optim\n",
    "from train.train import train\n",
    "from train.dataloader import GeoDataLoader, img_train_transform\n",
    "from torch.utils.data import DataLoader\n",
    "from geoclip import GeoCLIP\n",
    "import os"
   ]
  },
  {
   "cell_type": "code",
   "execution_count": 2,
   "metadata": {},
   "outputs": [
    {
     "name": "stderr",
     "output_type": "stream",
     "text": [
      "Loading image paths and coordinates: 3354it [00:00, 17929.33it/s]"
     ]
    },
    {
     "name": "stdout",
     "output_type": "stream",
     "text": [
      "File not found: /home/ray/mnt/cluster_storage/ai_geolocation/eyesonrussia/eyesonrussia_imgs/img10126_0.jpg\n",
      "File not found: /home/ray/mnt/cluster_storage/ai_geolocation/eyesonrussia/eyesonrussia_imgs/img2080_1.jpg\n",
      "File not found: /home/ray/mnt/cluster_storage/ai_geolocation/eyesonrussia/eyesonrussia_imgs/img3441_1.jpg\n",
      "Total images found: 3351\n"
     ]
    },
    {
     "name": "stderr",
     "output_type": "stream",
     "text": [
      "\n"
     ]
    }
   ],
   "source": [
    "dataset_file = os.path.expanduser(\"~/mnt/cluster_storage/ai_geolocation/eyesonrussia/eyesonrussia_train_geolocations.csv\")\n",
    "dataset_folder = \"~/mnt/cluster_storage/ai_geolocation/eyesonrussia/eyesonrussia_imgs\"\n",
    "batch_size = 32\n",
    "\n",
    "train_dataset = GeoDataLoader(dataset_file, dataset_folder, transform=img_train_transform())\n",
    "train_dataloader = DataLoader(train_dataset, batch_size=batch_size, shuffle=True, num_workers=4)"
   ]
  },
  {
   "cell_type": "code",
   "execution_count": 3,
   "metadata": {},
   "outputs": [
    {
     "name": "stderr",
     "output_type": "stream",
     "text": [
      "/home/ray/anaconda3/lib/python3.11/site-packages/transformers/tokenization_utils_base.py:1601: FutureWarning: `clean_up_tokenization_spaces` was not set. It will be set to `True` by default. This behavior will be depracted in transformers v4.45, and will be then set to `False` by default. For more details check this issue: https://github.com/huggingface/transformers/issues/31884\n",
      "  warnings.warn(\n",
      "/home/ray/anaconda3/lib/python3.11/site-packages/geoclip/model/location_encoder.py:57: FutureWarning: You are using `torch.load` with `weights_only=False` (the current default value), which uses the default pickle module implicitly. It is possible to construct malicious pickle data which will execute arbitrary code during unpickling (See https://github.com/pytorch/pytorch/blob/main/SECURITY.md#untrusted-models for more details). In a future release, the default value for `weights_only` will be flipped to `True`. This limits the functions that could be executed during unpickling. Arbitrary objects will no longer be allowed to be loaded via this mode unless they are explicitly allowlisted by the user via `torch.serialization.add_safe_globals`. We recommend you start setting `weights_only=True` for any use case where you don't have full control of the loaded file. Please open an issue on GitHub for any issues related to this experimental feature.\n",
      "  self.load_state_dict(torch.load(f\"{file_dir}/weights/location_encoder_weights.pth\"))\n",
      "/home/ray/anaconda3/lib/python3.11/site-packages/geoclip/model/GeoCLIP.py:37: FutureWarning: You are using `torch.load` with `weights_only=False` (the current default value), which uses the default pickle module implicitly. It is possible to construct malicious pickle data which will execute arbitrary code during unpickling (See https://github.com/pytorch/pytorch/blob/main/SECURITY.md#untrusted-models for more details). In a future release, the default value for `weights_only` will be flipped to `True`. This limits the functions that could be executed during unpickling. Arbitrary objects will no longer be allowed to be loaded via this mode unless they are explicitly allowlisted by the user via `torch.serialization.add_safe_globals`. We recommend you start setting `weights_only=True` for any use case where you don't have full control of the loaded file. Please open an issue on GitHub for any issues related to this experimental feature.\n",
      "  self.image_encoder.mlp.load_state_dict(torch.load(f\"{self.weights_folder}/image_encoder_mlp_weights.pth\"))\n",
      "/home/ray/anaconda3/lib/python3.11/site-packages/geoclip/model/GeoCLIP.py:38: FutureWarning: You are using `torch.load` with `weights_only=False` (the current default value), which uses the default pickle module implicitly. It is possible to construct malicious pickle data which will execute arbitrary code during unpickling (See https://github.com/pytorch/pytorch/blob/main/SECURITY.md#untrusted-models for more details). In a future release, the default value for `weights_only` will be flipped to `True`. This limits the functions that could be executed during unpickling. Arbitrary objects will no longer be allowed to be loaded via this mode unless they are explicitly allowlisted by the user via `torch.serialization.add_safe_globals`. We recommend you start setting `weights_only=True` for any use case where you don't have full control of the loaded file. Please open an issue on GitHub for any issues related to this experimental feature.\n",
      "  self.location_encoder.load_state_dict(torch.load(f\"{self.weights_folder}/location_encoder_weights.pth\"))\n",
      "/home/ray/anaconda3/lib/python3.11/site-packages/geoclip/model/GeoCLIP.py:39: FutureWarning: You are using `torch.load` with `weights_only=False` (the current default value), which uses the default pickle module implicitly. It is possible to construct malicious pickle data which will execute arbitrary code during unpickling (See https://github.com/pytorch/pytorch/blob/main/SECURITY.md#untrusted-models for more details). In a future release, the default value for `weights_only` will be flipped to `True`. This limits the functions that could be executed during unpickling. Arbitrary objects will no longer be allowed to be loaded via this mode unless they are explicitly allowlisted by the user via `torch.serialization.add_safe_globals`. We recommend you start setting `weights_only=True` for any use case where you don't have full control of the loaded file. Please open an issue on GitHub for any issues related to this experimental feature.\n",
      "  self.logit_scale = nn.Parameter(torch.load(f\"{self.weights_folder}/logit_scale_weights.pth\"))\n"
     ]
    }
   ],
   "source": [
    "# Initialize model\n",
    "\n",
    "model = GeoCLIP(from_pretrained=True)\n",
    "optimizer = optim.Adam(model.parameters(), lr=0.0001)\n",
    "scheduler = optim.lr_scheduler.StepLR(optimizer, step_size=30, gamma=0.1)\n",
    "num_epochs = 10\n",
    "device = torch.device(\"cuda\" if torch.cuda.is_available() else \"cpu\")"
   ]
  },
  {
   "cell_type": "code",
   "execution_count": 4,
   "metadata": {},
   "outputs": [
    {
     "name": "stdout",
     "output_type": "stream",
     "text": [
      "Starting Epoch 0\n"
     ]
    },
    {
     "name": "stderr",
     "output_type": "stream",
     "text": [
      "Epoch 0 loss: 6.70239:  38%|███▊      | 40/105 [00:56<01:29,  1.37s/it]"
     ]
    }
   ],
   "source": [
    "# Train\n",
    "os.makedirs(\"snapshots\", exist_ok=True)\n",
    "\n",
    "for epoch in range(num_epochs):\n",
    "    train(train_dataloader, model, optimizer, epoch, batch_size, device, scheduler=scheduler)\n",
    "\n",
    "    snapshot_dir = f\"snapshots/epoch_{epoch}\"\n",
    "    os.makedirs(snapshot_dir, exist_ok=True)\n",
    "    \n",
    "    torch.save(model.image_encoder.mlp.state_dict(), f\"{snapshot_dir}/image_encoder_mlp_weights.pth\")\n",
    "    torch.save(model.location_encoder.state_dict(), f\"{snapshot_dir}/location_encoder_weights.pth\")\n",
    "    torch.save(model.logit_scale, f\"{snapshot_dir}/logit_scale_weights.pth\")\n",
    "    \n",
    "    # save optimizer and scheduler states\n",
    "    torch.save(optimizer.state_dict(), f\"{snapshot_dir}/optimizer.pth\")\n",
    "    if scheduler:\n",
    "        torch.save(scheduler.state_dict(), f\"{snapshot_dir}/scheduler.pth\")\n",
    "    \n",
    "    print(f\"Saved snapshot for epoch {epoch}\")\n",
    "\n",
    "# Save fine-tuned weights\n",
    "torch.save(model.image_encoder.mlp.state_dict(), \"fine_tuned_image_encoder_mlp_weights.pth\")\n",
    "torch.save(model.location_encoder.state_dict(), \"fine_tuned_location_encoder_weights.pth\")\n",
    "torch.save(model.logit_scale, \"fine_tuned_logit_scale_weights.pth\")"
   ]
  },
  {
   "cell_type": "code",
   "execution_count": null,
   "metadata": {},
   "outputs": [],
   "source": []
  }
 ],
 "metadata": {
  "kernelspec": {
   "display_name": "base",
   "language": "python",
   "name": "python3"
  },
  "language_info": {
   "codemirror_mode": {
    "name": "ipython",
    "version": 3
   },
   "file_extension": ".py",
   "mimetype": "text/x-python",
   "name": "python",
   "nbconvert_exporter": "python",
   "pygments_lexer": "ipython3",
   "version": "3.11.8"
  }
 },
 "nbformat": 4,
 "nbformat_minor": 2
}
