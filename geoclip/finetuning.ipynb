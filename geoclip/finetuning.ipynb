{
 "cells": [
  {
   "cell_type": "code",
   "execution_count": 1,
   "metadata": {},
   "outputs": [
    {
     "name": "stderr",
     "output_type": "stream",
     "text": [
      "/home/ray/anaconda3/lib/python3.11/site-packages/tqdm/auto.py:21: TqdmWarning: IProgress not found. Please update jupyter and ipywidgets. See https://ipywidgets.readthedocs.io/en/stable/user_install.html\n",
      "  from .autonotebook import tqdm as notebook_tqdm\n"
     ]
    }
   ],
   "source": [
    "import torch\n",
    "from torch import nn\n",
    "import torch.optim as optim\n",
    "from train.train import train\n",
    "from train.dataloader import GeoDataLoader, img_train_transform\n",
    "from torch.utils.data import DataLoader\n",
    "from geoclip import GeoCLIP\n",
    "import os"
   ]
  },
  {
   "cell_type": "code",
   "execution_count": 2,
   "metadata": {},
   "outputs": [
    {
     "name": "stderr",
     "output_type": "stream",
     "text": [
      "Loading image paths and coordinates: 0it [00:00, ?it/s]"
     ]
    },
    {
     "name": "stderr",
     "output_type": "stream",
     "text": [
      "Loading image paths and coordinates: 3354it [00:00, 21858.37it/s]"
     ]
    },
    {
     "name": "stdout",
     "output_type": "stream",
     "text": [
      "File not found: /home/ray/mnt/cluster_storage/ai_geolocation/eyesonrussia/eyesonrussia_imgs/img10126_0.jpg\n",
      "File not found: /home/ray/mnt/cluster_storage/ai_geolocation/eyesonrussia/eyesonrussia_imgs/img2080_1.jpg\n",
      "File not found: /home/ray/mnt/cluster_storage/ai_geolocation/eyesonrussia/eyesonrussia_imgs/img3441_1.jpg\n",
      "Total images found: 3351\n"
     ]
    },
    {
     "name": "stderr",
     "output_type": "stream",
     "text": [
      "\n"
     ]
    }
   ],
   "source": [
    "dataset_file = os.path.expanduser(\"~/mnt/cluster_storage/ai_geolocation/eyesonrussia/eyesonrussia_train_geolocations.csv\")\n",
    "dataset_folder = \"~/mnt/cluster_storage/ai_geolocation/eyesonrussia/eyesonrussia_imgs\"\n",
    "batch_size = 32\n",
    "\n",
    "train_dataset = GeoDataLoader(dataset_file, dataset_folder, transform=img_train_transform())\n",
    "train_dataloader = DataLoader(train_dataset, batch_size=batch_size, shuffle=True, num_workers=4)"
   ]
  },
  {
   "cell_type": "code",
   "execution_count": 3,
   "metadata": {},
   "outputs": [
    {
     "name": "stderr",
     "output_type": "stream",
     "text": [
      "/home/ray/anaconda3/lib/python3.11/site-packages/transformers/tokenization_utils_base.py:1601: FutureWarning: `clean_up_tokenization_spaces` was not set. It will be set to `True` by default. This behavior will be depracted in transformers v4.45, and will be then set to `False` by default. For more details check this issue: https://github.com/huggingface/transformers/issues/31884\n",
      "  warnings.warn(\n",
      "/home/ray/anaconda3/lib/python3.11/site-packages/geoclip/model/location_encoder.py:57: FutureWarning: You are using `torch.load` with `weights_only=False` (the current default value), which uses the default pickle module implicitly. It is possible to construct malicious pickle data which will execute arbitrary code during unpickling (See https://github.com/pytorch/pytorch/blob/main/SECURITY.md#untrusted-models for more details). In a future release, the default value for `weights_only` will be flipped to `True`. This limits the functions that could be executed during unpickling. Arbitrary objects will no longer be allowed to be loaded via this mode unless they are explicitly allowlisted by the user via `torch.serialization.add_safe_globals`. We recommend you start setting `weights_only=True` for any use case where you don't have full control of the loaded file. Please open an issue on GitHub for any issues related to this experimental feature.\n",
      "  self.load_state_dict(torch.load(f\"{file_dir}/weights/location_encoder_weights.pth\"))\n",
      "/home/ray/anaconda3/lib/python3.11/site-packages/geoclip/model/GeoCLIP.py:37: FutureWarning: You are using `torch.load` with `weights_only=False` (the current default value), which uses the default pickle module implicitly. It is possible to construct malicious pickle data which will execute arbitrary code during unpickling (See https://github.com/pytorch/pytorch/blob/main/SECURITY.md#untrusted-models for more details). In a future release, the default value for `weights_only` will be flipped to `True`. This limits the functions that could be executed during unpickling. Arbitrary objects will no longer be allowed to be loaded via this mode unless they are explicitly allowlisted by the user via `torch.serialization.add_safe_globals`. We recommend you start setting `weights_only=True` for any use case where you don't have full control of the loaded file. Please open an issue on GitHub for any issues related to this experimental feature.\n",
      "  self.image_encoder.mlp.load_state_dict(torch.load(f\"{self.weights_folder}/image_encoder_mlp_weights.pth\"))\n",
      "/home/ray/anaconda3/lib/python3.11/site-packages/geoclip/model/GeoCLIP.py:38: FutureWarning: You are using `torch.load` with `weights_only=False` (the current default value), which uses the default pickle module implicitly. It is possible to construct malicious pickle data which will execute arbitrary code during unpickling (See https://github.com/pytorch/pytorch/blob/main/SECURITY.md#untrusted-models for more details). In a future release, the default value for `weights_only` will be flipped to `True`. This limits the functions that could be executed during unpickling. Arbitrary objects will no longer be allowed to be loaded via this mode unless they are explicitly allowlisted by the user via `torch.serialization.add_safe_globals`. We recommend you start setting `weights_only=True` for any use case where you don't have full control of the loaded file. Please open an issue on GitHub for any issues related to this experimental feature.\n",
      "  self.location_encoder.load_state_dict(torch.load(f\"{self.weights_folder}/location_encoder_weights.pth\"))\n",
      "/home/ray/anaconda3/lib/python3.11/site-packages/geoclip/model/GeoCLIP.py:39: FutureWarning: You are using `torch.load` with `weights_only=False` (the current default value), which uses the default pickle module implicitly. It is possible to construct malicious pickle data which will execute arbitrary code during unpickling (See https://github.com/pytorch/pytorch/blob/main/SECURITY.md#untrusted-models for more details). In a future release, the default value for `weights_only` will be flipped to `True`. This limits the functions that could be executed during unpickling. Arbitrary objects will no longer be allowed to be loaded via this mode unless they are explicitly allowlisted by the user via `torch.serialization.add_safe_globals`. We recommend you start setting `weights_only=True` for any use case where you don't have full control of the loaded file. Please open an issue on GitHub for any issues related to this experimental feature.\n",
      "  self.logit_scale = nn.Parameter(torch.load(f\"{self.weights_folder}/logit_scale_weights.pth\"))\n"
     ]
    }
   ],
   "source": [
    "# Initialize model\n",
    "\n",
    "model = GeoCLIP(from_pretrained=True)\n",
    "optimizer = optim.Adam(model.parameters(), lr=0.0001)\n",
    "scheduler = optim.lr_scheduler.StepLR(optimizer, step_size=30, gamma=0.1)\n",
    "num_epochs = 10\n",
    "device = torch.device(\"cuda\" if torch.cuda.is_available() else \"cpu\")"
   ]
  },
  {
   "cell_type": "code",
   "execution_count": 4,
   "metadata": {},
   "outputs": [
    {
     "name": "stdout",
     "output_type": "stream",
     "text": [
      "Starting Epoch 0\n"
     ]
    },
    {
     "name": "stderr",
     "output_type": "stream",
     "text": [
      "Epoch 0 loss: 6.59978:  99%|█████████▉| 104/105 [02:25<00:01,  1.40s/it]\n"
     ]
    },
    {
     "ename": "AssertionError",
     "evalue": "Queue size 4096 should be divisible by batch size 23",
     "output_type": "error",
     "traceback": [
      "\u001b[0;31m---------------------------------------------------------------------------\u001b[0m",
      "\u001b[0;31mAssertionError\u001b[0m                            Traceback (most recent call last)",
      "\u001b[1;32m/home/ray/mnt/cluster_storage/ai_geolocation/geo-clip/geoclip/finetuning.ipynb Cell 4\u001b[0m line \u001b[0;36m3\n\u001b[1;32m      <a href='vscode-notebook-cell://vscode-session-37bv65ncmfupbbmnzgbfuyb6wg.i.anyscaleuserdata.com/home/ray/mnt/cluster_storage/ai_geolocation/geo-clip/geoclip/finetuning.ipynb#W3sdnNjb2RlLXJlbW90ZQ%3D%3D?line=0'>1</a>\u001b[0m \u001b[39m# Train\u001b[39;00m\n\u001b[1;32m      <a href='vscode-notebook-cell://vscode-session-37bv65ncmfupbbmnzgbfuyb6wg.i.anyscaleuserdata.com/home/ray/mnt/cluster_storage/ai_geolocation/geo-clip/geoclip/finetuning.ipynb#W3sdnNjb2RlLXJlbW90ZQ%3D%3D?line=1'>2</a>\u001b[0m \u001b[39mfor\u001b[39;00m epoch \u001b[39min\u001b[39;00m \u001b[39mrange\u001b[39m(num_epochs):\n\u001b[0;32m----> <a href='vscode-notebook-cell://vscode-session-37bv65ncmfupbbmnzgbfuyb6wg.i.anyscaleuserdata.com/home/ray/mnt/cluster_storage/ai_geolocation/geo-clip/geoclip/finetuning.ipynb#W3sdnNjb2RlLXJlbW90ZQ%3D%3D?line=2'>3</a>\u001b[0m     train(train_dataloader, model, optimizer, epoch, batch_size, device, scheduler\u001b[39m=\u001b[39;49mscheduler)\n\u001b[1;32m      <a href='vscode-notebook-cell://vscode-session-37bv65ncmfupbbmnzgbfuyb6wg.i.anyscaleuserdata.com/home/ray/mnt/cluster_storage/ai_geolocation/geo-clip/geoclip/finetuning.ipynb#W3sdnNjb2RlLXJlbW90ZQ%3D%3D?line=4'>5</a>\u001b[0m \u001b[39m# Save fine-tuned weights\u001b[39;00m\n\u001b[1;32m      <a href='vscode-notebook-cell://vscode-session-37bv65ncmfupbbmnzgbfuyb6wg.i.anyscaleuserdata.com/home/ray/mnt/cluster_storage/ai_geolocation/geo-clip/geoclip/finetuning.ipynb#W3sdnNjb2RlLXJlbW90ZQ%3D%3D?line=5'>6</a>\u001b[0m torch\u001b[39m.\u001b[39msave(model\u001b[39m.\u001b[39mimage_encoder\u001b[39m.\u001b[39mmlp\u001b[39m.\u001b[39mstate_dict(), \u001b[39m\"\u001b[39m\u001b[39mfine_tuned_image_encoder_mlp_weights.pth\u001b[39m\u001b[39m\"\u001b[39m)\n",
      "File \u001b[0;32m~/mnt/cluster_storage/ai_geolocation/geo-clip/geoclip/train/train.py:31\u001b[0m, in \u001b[0;36mtrain\u001b[0;34m(train_dataloader, model, optimizer, epoch, batch_size, device, pretrained_weights_dir, scheduler, criterion)\u001b[0m\n\u001b[1;32m     29\u001b[0m \u001b[39m# Append GPS Queue & Queue Update\u001b[39;00m\n\u001b[1;32m     30\u001b[0m gps_all \u001b[39m=\u001b[39m torch\u001b[39m.\u001b[39mcat([gps, gps_queue], dim\u001b[39m=\u001b[39m\u001b[39m0\u001b[39m)\n\u001b[0;32m---> 31\u001b[0m model\u001b[39m.\u001b[39;49mdequeue_and_enqueue(gps)\n\u001b[1;32m     33\u001b[0m \u001b[39m# Forward pass\u001b[39;00m\n\u001b[1;32m     34\u001b[0m logits_img_gps \u001b[39m=\u001b[39m model(imgs, gps_all)\n",
      "File \u001b[0;32m~/anaconda3/lib/python3.11/site-packages/torch/utils/_contextlib.py:116\u001b[0m, in \u001b[0;36mcontext_decorator.<locals>.decorate_context\u001b[0;34m(*args, **kwargs)\u001b[0m\n\u001b[1;32m    113\u001b[0m \u001b[39m@functools\u001b[39m\u001b[39m.\u001b[39mwraps(func)\n\u001b[1;32m    114\u001b[0m \u001b[39mdef\u001b[39;00m \u001b[39mdecorate_context\u001b[39m(\u001b[39m*\u001b[39margs, \u001b[39m*\u001b[39m\u001b[39m*\u001b[39mkwargs):\n\u001b[1;32m    115\u001b[0m     \u001b[39mwith\u001b[39;00m ctx_factory():\n\u001b[0;32m--> 116\u001b[0m         \u001b[39mreturn\u001b[39;00m func(\u001b[39m*\u001b[39;49margs, \u001b[39m*\u001b[39;49m\u001b[39m*\u001b[39;49mkwargs)\n",
      "File \u001b[0;32m~/anaconda3/lib/python3.11/site-packages/geoclip/model/GeoCLIP.py:57\u001b[0m, in \u001b[0;36mGeoCLIP.dequeue_and_enqueue\u001b[0;34m(self, gps)\u001b[0m\n\u001b[1;32m     54\u001b[0m gps_batch_size \u001b[39m=\u001b[39m gps\u001b[39m.\u001b[39mshape[\u001b[39m0\u001b[39m]\n\u001b[1;32m     55\u001b[0m gps_ptr \u001b[39m=\u001b[39m \u001b[39mint\u001b[39m(\u001b[39mself\u001b[39m\u001b[39m.\u001b[39mgps_queue_ptr)\n\u001b[0;32m---> 57\u001b[0m \u001b[39massert\u001b[39;00m \u001b[39mself\u001b[39m\u001b[39m.\u001b[39mqueue_size \u001b[39m%\u001b[39m gps_batch_size \u001b[39m==\u001b[39m \u001b[39m0\u001b[39m, \u001b[39mf\u001b[39m\u001b[39m\"\u001b[39m\u001b[39mQueue size \u001b[39m\u001b[39m{\u001b[39;00m\u001b[39mself\u001b[39m\u001b[39m.\u001b[39mqueue_size\u001b[39m}\u001b[39;00m\u001b[39m should be divisible by batch size \u001b[39m\u001b[39m{\u001b[39;00mgps_batch_size\u001b[39m}\u001b[39;00m\u001b[39m\"\u001b[39m\n\u001b[1;32m     59\u001b[0m \u001b[39m# Replace the GPS from ptr to ptr+gps_batch_size (dequeue and enqueue)\u001b[39;00m\n\u001b[1;32m     60\u001b[0m \u001b[39mself\u001b[39m\u001b[39m.\u001b[39mgps_queue[:, gps_ptr:gps_ptr \u001b[39m+\u001b[39m gps_batch_size] \u001b[39m=\u001b[39m gps\u001b[39m.\u001b[39mt()\n",
      "\u001b[0;31mAssertionError\u001b[0m: Queue size 4096 should be divisible by batch size 23"
     ]
    }
   ],
   "source": [
    "# Train\n",
    "for epoch in range(num_epochs):\n",
    "    train(train_dataloader, model, optimizer, epoch, batch_size, device, scheduler=scheduler)\n",
    "\n",
    "# Save fine-tuned weights\n",
    "torch.save(model.image_encoder.mlp.state_dict(), \"fine_tuned_image_encoder_mlp_weights.pth\")\n",
    "torch.save(model.location_encoder.state_dict(), \"fine_tuned_location_encoder_weights.pth\")\n",
    "torch.save(model.logit_scale, \"fine_tuned_logit_scale_weights.pth\")"
   ]
  },
  {
   "cell_type": "code",
   "execution_count": null,
   "metadata": {},
   "outputs": [],
   "source": []
  }
 ],
 "metadata": {
  "kernelspec": {
   "display_name": "base",
   "language": "python",
   "name": "python3"
  },
  "language_info": {
   "codemirror_mode": {
    "name": "ipython",
    "version": 3
   },
   "file_extension": ".py",
   "mimetype": "text/x-python",
   "name": "python",
   "nbconvert_exporter": "python",
   "pygments_lexer": "ipython3",
   "version": "3.11.8"
  }
 },
 "nbformat": 4,
 "nbformat_minor": 2
}
